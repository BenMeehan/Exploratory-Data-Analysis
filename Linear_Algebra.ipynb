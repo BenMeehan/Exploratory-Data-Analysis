{
  "nbformat": 4,
  "nbformat_minor": 0,
  "metadata": {
    "colab": {
      "name": "Linear Algebra.ipynb",
      "provenance": [],
      "collapsed_sections": [],
      "authorship_tag": "ABX9TyNndCv5zVyf3DqiVpFyCgdE",
      "include_colab_link": true
    },
    "kernelspec": {
      "name": "python3",
      "display_name": "Python 3"
    },
    "language_info": {
      "name": "python"
    }
  },
  "cells": [
    {
      "cell_type": "markdown",
      "metadata": {
        "id": "view-in-github",
        "colab_type": "text"
      },
      "source": [
        "<a href=\"https://colab.research.google.com/github/BenMeehan/Exploratory-Data-Analysis/blob/main/Linear_Algebra.ipynb\" target=\"_parent\"><img src=\"https://colab.research.google.com/assets/colab-badge.svg\" alt=\"Open In Colab\"/></a>"
      ]
    },
    {
      "cell_type": "markdown",
      "metadata": {
        "id": "v23-jREGtIam"
      },
      "source": [
        "# **Linear Algebra**"
      ]
    },
    {
      "cell_type": "markdown",
      "metadata": {
        "id": "XabjFQgEUhRw"
      },
      "source": [
        "**Why?**\n",
        "\n",
        "Makes it easier to work with higher dimensions like 4d,5d etc\n",
        "\n",
        "**Vectors**\n",
        "\n",
        "1.   Row vectors\n",
        "2.   Column vectors \n",
        "\n",
        "Dot product *a.b = ||a|| x ||b|| cos(theta)*\n",
        "\n",
        "distance between 2 points : *sqrt((a1-b1)^2+(a2-b2)^2+...)*\n",
        "\n",
        "projection of a on b = *||a|| cos(theta) ==> (a.b)/||b||*\n",
        "\n",
        "**Unit Vector :**\n",
        "\n",
        "a^ = a/||a||\n",
        "\n",
        "**Planes :**\n",
        "\n",
        "Line, Plane, Hyperplane\n",
        "\n",
        "General form of plane : w0+ summation(wi.xi)\n",
        "\n",
        "eg : *ax+by+c* --> Line\n",
        "\n",
        "Intercept Form : *x/a+y/b+z/c=1*\n",
        "\n",
        "**Circle :**\n",
        "\n",
        "Circle, Sphere, Hypersphere...\n",
        "\n",
        "summation(xi^2)=r^2 *italicized text*\n",
        "\n"
      ]
    },
    {
      "cell_type": "code",
      "metadata": {
        "colab": {
          "base_uri": "https://localhost:8080/"
        },
        "id": "qxoLZ08q8su2",
        "outputId": "e921e2b1-fb23-4b2b-ee24-eaaa9d6d314c"
      },
      "source": [
        "# check if a point lies inside, on or outside an unit circle with centre at origin\n",
        "\n",
        "radius=1 \n",
        "p1=(0.5,0.5)\n",
        "p2=(1,0)\n",
        "p3=(1,2)\n",
        "li=[p1,p2,p3]\n",
        "\n",
        "for i in li:\n",
        "  d=i[0]*i[0]+i[1]*i[1]\n",
        "  if d<radius*radius:\n",
        "    print(i,\" lies inside the circle.\")\n",
        "  elif d==radius*radius:\n",
        "    print(i,\" lies on the circle.\")\n",
        "  else:\n",
        "    print(i,\" lies outside the circle.\")"
      ],
      "execution_count": 4,
      "outputs": [
        {
          "output_type": "stream",
          "name": "stdout",
          "text": [
            "(0.5, 0.5)  lies inside the circle.\n",
            "(1, 0)  lies on the circle.\n",
            "(1, 2)  lies outside the circle.\n"
          ]
        }
      ]
    },
    {
      "cell_type": "markdown",
      "metadata": {
        "id": "ZPg84np8_HzE"
      },
      "source": [
        "**Square,cube,hypercube... and Rectangle,cuboid,hypercuboid... :**\n",
        "\n",
        "check if a point lies inside"
      ]
    },
    {
      "cell_type": "code",
      "metadata": {
        "id": "Px-ZObON_Uuq"
      },
      "source": [
        ""
      ],
      "execution_count": null,
      "outputs": []
    }
  ]
}